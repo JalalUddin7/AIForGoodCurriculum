{
  "cells": [
    {
      "metadata": {},
      "cell_type": "markdown",
      "source": "# Translate Text with the Cognitve Translator Text API\n\n\n### Pre-requisites\n\nEnsure you have provisioned a [Translator Text](https://docs.microsoft.com/en-us/azure/cognitive-services/translator/translator-info-overview) resource within your Azure Subscription"
    },
    {
      "metadata": {
        "trusted": true
      },
      "cell_type": "code",
      "source": "# -*- coding: utf-8 -*-\nimport os, requests, uuid, json",
      "execution_count": null,
      "outputs": []
    },
    {
      "metadata": {
        "trusted": true
      },
      "cell_type": "code",
      "source": "# Your Azure Translator Text API Key \nsubscription_key = 'Your_API_KEY'\n\n# Note: your service instance comes with an endpoint that facilitates token-based authentication, recommended for production solutions. \n# Here, we will use the universal translator endpoint.\nendpoint = 'https://api.cognitive.microsofttranslator.com/'",
      "execution_count": null,
      "outputs": []
    },
    {
      "metadata": {
        "trusted": true
      },
      "cell_type": "code",
      "source": "path = '/translate?api-version=3.0'\nparams = '&to=de&to=it'\nconstructed_url = endpoint + path + params",
      "execution_count": null,
      "outputs": []
    },
    {
      "metadata": {
        "trusted": true
      },
      "cell_type": "code",
      "source": "headers = {\n    'Ocp-Apim-Subscription-Key': subscription_key,\n    'Content-type': 'application/json',\n    'X-ClientTraceId': str(uuid.uuid4())\n}",
      "execution_count": null,
      "outputs": []
    },
    {
      "metadata": {
        "trusted": true
      },
      "cell_type": "code",
      "source": "body = [{\n    'text': 'Hello World!'\n}]",
      "execution_count": null,
      "outputs": []
    },
    {
      "metadata": {
        "trusted": true
      },
      "cell_type": "code",
      "source": "request = requests.post(constructed_url, headers=headers, json=body)\nresponse = request.json()",
      "execution_count": null,
      "outputs": []
    },
    {
      "metadata": {
        "trusted": true
      },
      "cell_type": "code",
      "source": "print(json.dumps(response, sort_keys=True, indent=4,\n                 ensure_ascii=False, separators=(',', ': ')))",
      "execution_count": null,
      "outputs": []
    },
    {
      "metadata": {
        "collapsed": true
      },
      "cell_type": "markdown",
      "source": "### References\n- https://docs.microsoft.com/en-us/azure/cognitive-services/translator/quickstart-translate?pivots=programming-language-python"
    },
    {
      "metadata": {
        "trusted": true
      },
      "cell_type": "code",
      "source": "",
      "execution_count": null,
      "outputs": []
    }
  ],
  "metadata": {
    "kernelspec": {
      "name": "python36",
      "display_name": "Python 3.6",
      "language": "python"
    },
    "language_info": {
      "mimetype": "text/x-python",
      "nbconvert_exporter": "python",
      "name": "python",
      "pygments_lexer": "ipython3",
      "version": "3.6.6",
      "file_extension": ".py",
      "codemirror_mode": {
        "version": 3,
        "name": "ipython"
      }
    }
  },
  "nbformat": 4,
  "nbformat_minor": 2
}